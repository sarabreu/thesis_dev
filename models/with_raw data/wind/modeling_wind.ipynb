{
 "cells": [
  {
   "cell_type": "markdown",
   "metadata": {},
   "source": [
    "# Models to test:\n",
    "## Partition:\n",
    "\n",
    "- K-Means;\n",
    "- K-Medoids -> PAM;\n",
    "- Fuzzy C-Means;\n",
    "- DBSCAN;\n",
    "- OPTICS\n",
    "\n",
    "## Hierarchical:\n",
    "### Bottom-up or down:\n",
    "- Single Link;\n",
    "- Average Link;\n",
    "- Ward's Method\n",
    "\n",
    "### Bottom-up:\n",
    "- Centroid Linkage\n",
    "\n",
    "### Bottom-down:\n",
    "- BIRCH\n",
    "\n",
    "## Model-based:\n",
    "- Gaussian Mixture Models (GMM);\n",
    "- Finite Mixture Models -> if data doesnt follow a Gaussian distribution\n",
    "- Dirichlet Process Mixture Models (DPMM): non-parametric Bayesian approach to clustering that allows the number of clusters to be inferred from the data. It uses a Dirichlet process prior to model the distribution of clusters, allowing for an infinite number of clusters. Is useful for datasets with an unknown or varying number of clusters;\n",
    "- Bayesian Gaussian Mixture Models (BGMM): Bayesian extension of GMM that incorporates prior distributions over the parameters of the Gaussian distributions. It provides a principled framework for estimating the number of clusters and handling uncertainty in the clustering process;"
   ]
  },
  {
   "cell_type": "code",
   "execution_count": null,
   "metadata": {},
   "outputs": [],
   "source": []
  }
 ],
 "metadata": {
  "language_info": {
   "name": "python"
  }
 },
 "nbformat": 4,
 "nbformat_minor": 2
}
