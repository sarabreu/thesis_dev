{
 "cells": [
  {
   "cell_type": "code",
   "execution_count": 3,
   "metadata": {},
   "outputs": [],
   "source": [
    "# import libraries \n",
    "import pandas as pd"
   ]
  },
  {
   "cell_type": "code",
   "execution_count": 4,
   "metadata": {},
   "outputs": [],
   "source": [
    "# import clean data set\n",
    "\n",
    "df_wind = pd.read_csv('../../../data_analysis_and_preproc/intermediate/wind/final_wind_df.csv')"
   ]
  },
  {
   "cell_type": "code",
   "execution_count": 5,
   "metadata": {},
   "outputs": [
    {
     "data": {
      "text/html": [
       "<div>\n",
       "<style scoped>\n",
       "    .dataframe tbody tr th:only-of-type {\n",
       "        vertical-align: middle;\n",
       "    }\n",
       "\n",
       "    .dataframe tbody tr th {\n",
       "        vertical-align: top;\n",
       "    }\n",
       "\n",
       "    .dataframe thead th {\n",
       "        text-align: right;\n",
       "    }\n",
       "</style>\n",
       "<table border=\"1\" class=\"dataframe\">\n",
       "  <thead>\n",
       "    <tr style=\"text-align: right;\">\n",
       "      <th></th>\n",
       "      <th>asset_id</th>\n",
       "      <th>read_at</th>\n",
       "      <th>wind_speed</th>\n",
       "      <th>wind_direction</th>\n",
       "      <th>power_average</th>\n",
       "      <th>rotation_average</th>\n",
       "      <th>exterior_temperature</th>\n",
       "      <th>nacelle_temperature</th>\n",
       "      <th>farm</th>\n",
       "    </tr>\n",
       "  </thead>\n",
       "  <tbody>\n",
       "    <tr>\n",
       "      <th>0</th>\n",
       "      <td>11</td>\n",
       "      <td>2021-01-01 00:00:00</td>\n",
       "      <td>8.3</td>\n",
       "      <td>296.0</td>\n",
       "      <td>802.0</td>\n",
       "      <td>15.51</td>\n",
       "      <td>-2.0</td>\n",
       "      <td>9.0</td>\n",
       "      <td>1</td>\n",
       "    </tr>\n",
       "    <tr>\n",
       "      <th>1</th>\n",
       "      <td>11</td>\n",
       "      <td>2021-01-01 04:20:00</td>\n",
       "      <td>5.1</td>\n",
       "      <td>297.0</td>\n",
       "      <td>137.0</td>\n",
       "      <td>9.45</td>\n",
       "      <td>-3.0</td>\n",
       "      <td>10.0</td>\n",
       "      <td>1</td>\n",
       "    </tr>\n",
       "    <tr>\n",
       "      <th>2</th>\n",
       "      <td>11</td>\n",
       "      <td>2021-01-01 14:20:00</td>\n",
       "      <td>7.8</td>\n",
       "      <td>301.0</td>\n",
       "      <td>614.0</td>\n",
       "      <td>14.51</td>\n",
       "      <td>-2.0</td>\n",
       "      <td>11.0</td>\n",
       "      <td>1</td>\n",
       "    </tr>\n",
       "    <tr>\n",
       "      <th>3</th>\n",
       "      <td>11</td>\n",
       "      <td>2021-01-01 14:40:00</td>\n",
       "      <td>7.7</td>\n",
       "      <td>301.0</td>\n",
       "      <td>611.0</td>\n",
       "      <td>14.60</td>\n",
       "      <td>-2.0</td>\n",
       "      <td>10.0</td>\n",
       "      <td>1</td>\n",
       "    </tr>\n",
       "    <tr>\n",
       "      <th>4</th>\n",
       "      <td>11</td>\n",
       "      <td>2021-01-01 15:20:00</td>\n",
       "      <td>8.9</td>\n",
       "      <td>295.0</td>\n",
       "      <td>995.0</td>\n",
       "      <td>16.05</td>\n",
       "      <td>-2.0</td>\n",
       "      <td>10.0</td>\n",
       "      <td>1</td>\n",
       "    </tr>\n",
       "  </tbody>\n",
       "</table>\n",
       "</div>"
      ],
      "text/plain": [
       "   asset_id              read_at  wind_speed  wind_direction  power_average  \\\n",
       "0        11  2021-01-01 00:00:00         8.3           296.0          802.0   \n",
       "1        11  2021-01-01 04:20:00         5.1           297.0          137.0   \n",
       "2        11  2021-01-01 14:20:00         7.8           301.0          614.0   \n",
       "3        11  2021-01-01 14:40:00         7.7           301.0          611.0   \n",
       "4        11  2021-01-01 15:20:00         8.9           295.0          995.0   \n",
       "\n",
       "   rotation_average  exterior_temperature  nacelle_temperature  farm  \n",
       "0             15.51                  -2.0                  9.0     1  \n",
       "1              9.45                  -3.0                 10.0     1  \n",
       "2             14.51                  -2.0                 11.0     1  \n",
       "3             14.60                  -2.0                 10.0     1  \n",
       "4             16.05                  -2.0                 10.0     1  "
      ]
     },
     "execution_count": 5,
     "metadata": {},
     "output_type": "execute_result"
    }
   ],
   "source": [
    "df_wind.head()"
   ]
  },
  {
   "cell_type": "markdown",
   "metadata": {},
   "source": [
    "# Partition Clustering"
   ]
  },
  {
   "cell_type": "markdown",
   "metadata": {},
   "source": [
    "## K-Means"
   ]
  },
  {
   "cell_type": "code",
   "execution_count": null,
   "metadata": {},
   "outputs": [],
   "source": []
  }
 ],
 "metadata": {
  "kernelspec": {
   "display_name": "Python 3",
   "language": "python",
   "name": "python3"
  },
  "language_info": {
   "codemirror_mode": {
    "name": "ipython",
    "version": 3
   },
   "file_extension": ".py",
   "mimetype": "text/x-python",
   "name": "python",
   "nbconvert_exporter": "python",
   "pygments_lexer": "ipython3",
   "version": "3.11.4"
  }
 },
 "nbformat": 4,
 "nbformat_minor": 2
}
